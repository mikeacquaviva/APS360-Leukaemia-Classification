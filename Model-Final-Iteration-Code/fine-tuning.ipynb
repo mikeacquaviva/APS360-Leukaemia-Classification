{
 "cells": [
  {
   "cell_type": "code",
   "execution_count": 1,
   "metadata": {},
   "outputs": [
    {
     "name": "stderr",
     "output_type": "stream",
     "text": [
      "c:\\Users\\micha\\AppData\\Local\\Programs\\Python\\Python310\\lib\\site-packages\\tqdm\\auto.py:21: TqdmWarning: IProgress not found. Please update jupyter and ipywidgets. See https://ipywidgets.readthedocs.io/en/stable/user_install.html\n",
      "  from .autonotebook import tqdm as notebook_tqdm\n",
      "c:\\Users\\micha\\AppData\\Local\\Programs\\Python\\Python310\\lib\\site-packages\\scipy\\__init__.py:146: UserWarning: A NumPy version >=1.16.5 and <1.23.0 is required for this version of SciPy (detected version 1.24.1\n",
      "  warnings.warn(f\"A NumPy version >={np_minversion} and <{np_maxversion}\"\n",
      "Using cache found in C:\\Users\\micha/.cache\\torch\\hub\\pytorch_vision_v0.10.0\n"
     ]
    },
    {
     "data": {
      "text/plain": [
       "<torch._C.Generator at 0x250b1602f30>"
      ]
     },
     "execution_count": 1,
     "metadata": {},
     "output_type": "execute_result"
    }
   ],
   "source": [
    "import torch\n",
    "import torchvision\n",
    "import numpy as np\n",
    "from torch import nn\n",
    "from torch.nn import functional as F\n",
    "from sklearn.preprocessing import StandardScaler\n",
    "from LeukemiaNet import *\n",
    "\n",
    "import matplotlib.pyplot as plt\n",
    "\n",
    "torch.manual_seed(0)"
   ]
  },
  {
   "cell_type": "code",
   "execution_count": 2,
   "metadata": {},
   "outputs": [],
   "source": [
    "aug1 = torchvision.transforms.Compose([\n",
    "    torchvision.transforms.ToTensor(),\n",
    "    torchvision.transforms.RandomHorizontalFlip(p=0.5)\n",
    "    ])\n",
    "aug2 = torchvision.transforms.Compose([\n",
    "    torchvision.transforms.ToTensor(),\n",
    "    torchvision.transforms.RandomVerticalFlip(p=0.5)\n",
    "    ])\n",
    "aug3 = torchvision.transforms.Compose([\n",
    "    torchvision.transforms.ToTensor(),\n",
    "    torchvision.transforms.RandomRotation(180)\n",
    "    ])\n",
    "aug4 = torchvision.transforms.Compose([\n",
    "    torchvision.transforms.ToTensor(),\n",
    "    torchvision.transforms.GaussianBlur(3, sigma=(0.1, 2.0))\n",
    "    ])\n",
    "\n",
    "images = torchvision.datasets.ImageFolder('./Training_and_Validation_Set/', transform=torchvision.transforms.ToTensor())\n",
    "images_aug1 = torchvision.datasets.ImageFolder('./Training_and_Validation_Set/', transform=aug1)\n",
    "images_aug2 = torchvision.datasets.ImageFolder('./Training_and_Validation_Set/', transform=aug2)\n",
    "images_aug3 = torchvision.datasets.ImageFolder('./Training_and_Validation_Set/', transform=aug3)\n",
    "images_aug4 = torchvision.datasets.ImageFolder('./Training_and_Validation_Set/', transform=aug4)\n",
    "\n",
    "dataset = torch.utils.data.ConcatDataset([images, images_aug1, images_aug2, images_aug3, images_aug4])"
   ]
  },
  {
   "cell_type": "code",
   "execution_count": 3,
   "metadata": {},
   "outputs": [],
   "source": [
    "class_count = {}\n",
    "for _, label in dataset:\n",
    "    if label not in class_count:\n",
    "        class_count[label] = 0\n",
    "    class_count[label] += 1\n",
    "\n",
    "num_train = 300*4*5\n",
    "num_val = 100*4*5\n",
    "\n",
    "train_sampler = torch.utils.data.WeightedRandomSampler([0.25,0.25,0.25,0.25], num_train)\n",
    "val_sampler = torch.utils.data.WeightedRandomSampler([0.25,0.25,0.25,0.25], num_val)\n",
    "\n",
    "train_dataset, val_dataset = torch.utils.data.random_split(dataset, [num_train, num_val])\n",
    "\n",
    "batch_size = 64\n",
    "train_loader = torch.utils.data.DataLoader(train_dataset, batch_size=batch_size, shuffle=True)\n",
    "val_loader = torch.utils.data.DataLoader(val_dataset, batch_size=batch_size, shuffle=False)"
   ]
  },
  {
   "cell_type": "code",
   "execution_count": 4,
   "metadata": {},
   "outputs": [
    {
     "data": {
      "text/plain": [
       "<All keys matched successfully>"
      ]
     },
     "execution_count": 4,
     "metadata": {},
     "output_type": "execute_result"
    }
   ],
   "source": [
    "free_cuda(feature_extractor)\n",
    "classifier = LeukemiaClassifier()\n",
    "# Load the pretrained weights from previous training\n",
    "classifier.load_state_dict(torch.load('classifier.pth'))"
   ]
  },
  {
   "cell_type": "code",
   "execution_count": 7,
   "metadata": {},
   "outputs": [
    {
     "name": "stdout",
     "output_type": "stream",
     "text": [
      "Fine-tuning for 1 epochs using cuda...\n",
      "Epoch 1 |\t Loss: 0.79 |\t Training Accuracy: 0.60 |\t Validation Accuracy: 0.59\n",
      "Epoch 1 |\t Loss: 1.13 |\t Training Accuracy: 0.63 |\t Validation Accuracy: 0.64\n",
      "Epoch 1 |\t Loss: 1.16 |\t Training Accuracy: 0.69 |\t Validation Accuracy: 0.70\n",
      "Epoch 1 |\t Loss: 1.24 |\t Training Accuracy: 0.75 |\t Validation Accuracy: 0.75\n",
      "Epoch 1 |\t Loss: 1.05 |\t Training Accuracy: 0.78 |\t Validation Accuracy: 0.78\n",
      "Epoch 1 |\t Loss: 1.07 |\t Training Accuracy: 0.79 |\t Validation Accuracy: 0.80\n",
      "Epoch 1 |\t Loss: 1.04 |\t Training Accuracy: 0.80 |\t Validation Accuracy: 0.81\n",
      "Epoch 1 |\t Loss: 1.07 |\t Training Accuracy: 0.80 |\t Validation Accuracy: 0.80\n",
      "Epoch 1 |\t Loss: 1.10 |\t Training Accuracy: 0.82 |\t Validation Accuracy: 0.82\n",
      "Epoch 1 |\t Loss: 1.01 |\t Training Accuracy: 0.84 |\t Validation Accuracy: 0.83\n",
      "Epoch 1 |\t Loss: 1.01 |\t Training Accuracy: 0.86 |\t Validation Accuracy: 0.85\n",
      "Epoch 1 |\t Loss: 1.02 |\t Training Accuracy: 0.87 |\t Validation Accuracy: 0.87\n",
      "Epoch 1 |\t Loss: 1.01 |\t Training Accuracy: 0.90 |\t Validation Accuracy: 0.90\n",
      "Epoch 1 |\t Loss: 1.00 |\t Training Accuracy: 0.91 |\t Validation Accuracy: 0.92\n",
      "Epoch 1 |\t Loss: 0.98 |\t Training Accuracy: 0.91 |\t Validation Accuracy: 0.92\n",
      "Epoch 1 |\t Loss: 0.95 |\t Training Accuracy: 0.92 |\t Validation Accuracy: 0.92\n",
      "Epoch 1 |\t Loss: 0.92 |\t Training Accuracy: 0.92 |\t Validation Accuracy: 0.92\n",
      "Epoch 1 |\t Loss: 0.90 |\t Training Accuracy: 0.93 |\t Validation Accuracy: 0.93\n",
      "Epoch 1 |\t Loss: 0.88 |\t Training Accuracy: 0.94 |\t Validation Accuracy: 0.93\n",
      "Epoch 1 |\t Loss: 0.85 |\t Training Accuracy: 0.94 |\t Validation Accuracy: 0.94\n",
      "Epoch 1 |\t Loss: 0.83 |\t Training Accuracy: 0.95 |\t Validation Accuracy: 0.95\n",
      "Epoch 1 |\t Loss: 0.80 |\t Training Accuracy: 0.95 |\t Validation Accuracy: 0.95\n",
      "Epoch 1 |\t Loss: 0.79 |\t Training Accuracy: 0.95 |\t Validation Accuracy: 0.95\n",
      "Epoch 1 |\t Loss: 0.77 |\t Training Accuracy: 0.95 |\t Validation Accuracy: 0.95\n",
      "Epoch 1 |\t Loss: 0.74 |\t Training Accuracy: 0.95 |\t Validation Accuracy: 0.96\n",
      "Epoch 1 |\t Loss: 0.73 |\t Training Accuracy: 0.95 |\t Validation Accuracy: 0.95\n",
      "Epoch 1 |\t Loss: 0.72 |\t Training Accuracy: 0.96 |\t Validation Accuracy: 0.96\n",
      "Epoch 1 |\t Loss: 0.72 |\t Training Accuracy: 0.96 |\t Validation Accuracy: 0.96\n",
      "Epoch 1 |\t Loss: 0.72 |\t Training Accuracy: 0.96 |\t Validation Accuracy: 0.96\n",
      "Epoch 1 |\t Loss: 0.70 |\t Training Accuracy: 0.96 |\t Validation Accuracy: 0.96\n",
      "Epoch 1 |\t Loss: 0.69 |\t Training Accuracy: 0.96 |\t Validation Accuracy: 0.96\n",
      "Epoch 1 |\t Loss: 0.67 |\t Training Accuracy: 0.96 |\t Validation Accuracy: 0.95\n",
      "Epoch 1 |\t Loss: 0.66 |\t Training Accuracy: 0.96 |\t Validation Accuracy: 0.96\n",
      "Epoch 1 |\t Loss: 0.65 |\t Training Accuracy: 0.96 |\t Validation Accuracy: 0.95\n",
      "Epoch 1 |\t Loss: 0.63 |\t Training Accuracy: 0.96 |\t Validation Accuracy: 0.96\n",
      "Epoch 1 |\t Loss: 0.62 |\t Training Accuracy: 0.96 |\t Validation Accuracy: 0.95\n",
      "Epoch 1 |\t Loss: 0.61 |\t Training Accuracy: 0.96 |\t Validation Accuracy: 0.95\n",
      "Epoch 1 |\t Loss: 0.61 |\t Training Accuracy: 0.96 |\t Validation Accuracy: 0.96\n",
      "Epoch 1 |\t Loss: 0.60 |\t Training Accuracy: 0.96 |\t Validation Accuracy: 0.96\n",
      "Epoch 1 |\t Loss: 0.59 |\t Training Accuracy: 0.96 |\t Validation Accuracy: 0.96\n",
      "Epoch 1 |\t Loss: 0.58 |\t Training Accuracy: 0.96 |\t Validation Accuracy: 0.96\n",
      "Epoch 1 |\t Loss: 0.57 |\t Training Accuracy: 0.96 |\t Validation Accuracy: 0.96\n",
      "Epoch 1 |\t Loss: 0.57 |\t Training Accuracy: 0.96 |\t Validation Accuracy: 0.96\n",
      "Epoch 1 |\t Loss: 0.55 |\t Training Accuracy: 0.97 |\t Validation Accuracy: 0.96\n",
      "Epoch 1 |\t Loss: 0.54 |\t Training Accuracy: 0.97 |\t Validation Accuracy: 0.97\n",
      "Epoch 1 |\t Loss: 0.54 |\t Training Accuracy: 0.97 |\t Validation Accuracy: 0.96\n",
      "Epoch 1 |\t Loss: 0.53 |\t Training Accuracy: 0.97 |\t Validation Accuracy: 0.97\n",
      "Epoch 1 |\t Loss: 0.52 |\t Training Accuracy: 0.97 |\t Validation Accuracy: 0.97\n",
      "Epoch 1 |\t Loss: 0.53 |\t Training Accuracy: 0.97 |\t Validation Accuracy: 0.97\n",
      "Epoch 1 |\t Loss: 0.52 |\t Training Accuracy: 0.97 |\t Validation Accuracy: 0.97\n",
      "Epoch 1 |\t Loss: 0.52 |\t Training Accuracy: 0.98 |\t Validation Accuracy: 0.97\n",
      "Epoch 1 |\t Loss: 0.51 |\t Training Accuracy: 0.98 |\t Validation Accuracy: 0.97\n",
      "Epoch 1 |\t Loss: 0.51 |\t Training Accuracy: 0.98 |\t Validation Accuracy: 0.98\n",
      "Epoch 1 |\t Loss: 0.50 |\t Training Accuracy: 0.98 |\t Validation Accuracy: 0.98\n",
      "Epoch 1 |\t Loss: 0.51 |\t Training Accuracy: 0.98 |\t Validation Accuracy: 0.98\n",
      "Epoch 1 |\t Loss: 0.50 |\t Training Accuracy: 0.98 |\t Validation Accuracy: 0.98\n",
      "Epoch 1 |\t Loss: 0.49 |\t Training Accuracy: 0.98 |\t Validation Accuracy: 0.98\n",
      "Epoch 1 |\t Loss: 0.49 |\t Training Accuracy: 0.98 |\t Validation Accuracy: 0.98\n",
      "Epoch 1 |\t Loss: 0.48 |\t Training Accuracy: 0.98 |\t Validation Accuracy: 0.98\n",
      "Epoch 1 |\t Loss: 0.48 |\t Training Accuracy: 0.98 |\t Validation Accuracy: 0.98\n",
      "Epoch 1 |\t Loss: 0.47 |\t Training Accuracy: 0.98 |\t Validation Accuracy: 0.98\n",
      "Epoch 1 |\t Loss: 0.47 |\t Training Accuracy: 0.98 |\t Validation Accuracy: 0.98\n",
      "Epoch 1 |\t Loss: 0.47 |\t Training Accuracy: 0.98 |\t Validation Accuracy: 0.99\n",
      "Epoch 1 |\t Loss: 0.46 |\t Training Accuracy: 0.98 |\t Validation Accuracy: 0.98\n",
      "Epoch 1 |\t Loss: 0.46 |\t Training Accuracy: 0.98 |\t Validation Accuracy: 0.98\n",
      "Epoch 1 |\t Loss: 0.46 |\t Training Accuracy: 0.98 |\t Validation Accuracy: 0.98\n",
      "Epoch 1 |\t Loss: 0.45 |\t Training Accuracy: 0.98 |\t Validation Accuracy: 0.98\n",
      "Epoch 1 |\t Loss: 0.45 |\t Training Accuracy: 0.98 |\t Validation Accuracy: 0.98\n",
      "Epoch 1 |\t Loss: 0.44 |\t Training Accuracy: 0.98 |\t Validation Accuracy: 0.98\n",
      "Epoch 1 |\t Loss: 0.44 |\t Training Accuracy: 0.98 |\t Validation Accuracy: 0.98\n",
      "Epoch 1 |\t Loss: 0.44 |\t Training Accuracy: 0.98 |\t Validation Accuracy: 0.98\n",
      "Epoch 1 |\t Loss: 0.44 |\t Training Accuracy: 0.98 |\t Validation Accuracy: 0.98\n",
      "Epoch 1 |\t Loss: 0.43 |\t Training Accuracy: 0.98 |\t Validation Accuracy: 0.98\n",
      "Epoch 1 |\t Loss: 0.43 |\t Training Accuracy: 0.98 |\t Validation Accuracy: 0.98\n",
      "Epoch 1 |\t Loss: 0.43 |\t Training Accuracy: 0.99 |\t Validation Accuracy: 0.98\n",
      "Epoch 1 |\t Loss: 0.42 |\t Training Accuracy: 0.98 |\t Validation Accuracy: 0.98\n",
      "Epoch 1 |\t Loss: 0.42 |\t Training Accuracy: 0.98 |\t Validation Accuracy: 0.98\n",
      "Epoch 1 |\t Loss: 0.41 |\t Training Accuracy: 0.98 |\t Validation Accuracy: 0.98\n",
      "Epoch 1 |\t Loss: 0.41 |\t Training Accuracy: 0.98 |\t Validation Accuracy: 0.98\n",
      "Epoch 1 |\t Loss: 0.41 |\t Training Accuracy: 0.98 |\t Validation Accuracy: 0.98\n",
      "Epoch 1 |\t Loss: 0.41 |\t Training Accuracy: 0.99 |\t Validation Accuracy: 0.98\n",
      "Epoch 1 |\t Loss: 0.41 |\t Training Accuracy: 0.99 |\t Validation Accuracy: 0.98\n",
      "Epoch 1 |\t Loss: 0.41 |\t Training Accuracy: 0.98 |\t Validation Accuracy: 0.98\n",
      "Epoch 1 |\t Loss: 0.40 |\t Training Accuracy: 0.99 |\t Validation Accuracy: 0.98\n",
      "Epoch 1 |\t Loss: 0.40 |\t Training Accuracy: 0.99 |\t Validation Accuracy: 0.98\n",
      "Epoch 1 |\t Loss: 0.39 |\t Training Accuracy: 0.99 |\t Validation Accuracy: 0.98\n",
      "Epoch 1 |\t Loss: 0.39 |\t Training Accuracy: 0.98 |\t Validation Accuracy: 0.98\n",
      "Epoch 1 |\t Loss: 0.39 |\t Training Accuracy: 0.98 |\t Validation Accuracy: 0.99\n",
      "Epoch 1 |\t Loss: 0.39 |\t Training Accuracy: 0.99 |\t Validation Accuracy: 0.98\n",
      "Epoch 1 |\t Loss: 0.39 |\t Training Accuracy: 0.98 |\t Validation Accuracy: 0.98\n",
      "Epoch 1 |\t Loss: 0.39 |\t Training Accuracy: 0.98 |\t Validation Accuracy: 0.99\n",
      "Epoch 1 |\t Loss: 0.39 |\t Training Accuracy: 0.98 |\t Validation Accuracy: 0.98\n",
      "Epoch 1 |\t Loss: 0.38 |\t Training Accuracy: 0.98 |\t Validation Accuracy: 0.98\n",
      "Epoch 1 |\t Loss: 0.38 |\t Training Accuracy: 0.98 |\t Validation Accuracy: 0.98\n"
     ]
    }
   ],
   "source": [
    "loss, tr_acc, vl_acc = fine_tune(classifier, train_loader, val_loader, epochs=1, initial_lr=3e-4)"
   ]
  },
  {
   "cell_type": "code",
   "execution_count": 13,
   "metadata": {},
   "outputs": [
    {
     "data": {
      "image/png": "[encoded data removed]",
      "text/plain": [
       "<Figure size 360x288 with 2 Axes>"
      ]
     },
     "metadata": {
      "needs_background": "light"
     },
     "output_type": "display_data"
    },
    {
     "name": "stdout",
     "output_type": "stream",
     "text": [
      "              precision    recall  f1-score   support\n",
      "\n",
      "      BENIGN       0.98      0.99      0.99       482\n",
      "       EARLY       0.98      0.99      0.98       520\n",
      "         PRE       1.00      0.97      0.99       519\n",
      "         PRO       0.99      0.99      0.99       479\n",
      "\n",
      "    accuracy                           0.99      2000\n",
      "   macro avg       0.99      0.99      0.99      2000\n",
      "weighted avg       0.99      0.99      0.99      2000\n",
      "\n"
     ]
    }
   ],
   "source": [
    "model = classifier.cpu()\n",
    "feature_extractor = LeukemiaNet_Features_Resnet()\n",
    "feature_extractor.load_state_dict(torch.load('FeatureExtractor_tuned.pt'))\n",
    "feature_extractor = feature_extractor.cpu()\n",
    "model.eval()\n",
    "feature_extractor.eval()\n",
    "predicted_labels = np.array([])\n",
    "actual_labels = np.array([])\n",
    "for x, y in val_loader:\n",
    "    predicted_labels = np.append(predicted_labels, model(feature_extractor(x)).argmax(dim=1).numpy())\n",
    "    actual_labels = np.append(actual_labels, y.numpy())\n",
    "class_names = ['BENIGN','EARLY', 'PRE', 'PRO']\n",
    "draw_confusion_matrix(predicted_labels, actual_labels)\n",
    "print_model_report(predicted_labels, actual_labels, class_names)"
   ]
  },
  {
   "cell_type": "code",
   "execution_count": 14,
   "metadata": {},
   "outputs": [
    {
     "data": {
      "text/plain": [
       "<matplotlib.legend.Legend at 0x25249ae4790>"
      ]
     },
     "execution_count": 14,
     "metadata": {},
     "output_type": "execute_result"
    },
    {
     "data": {
      "image/png": "[encoded data removed]",
      "text/plain": [
       "<Figure size 432x288 with 1 Axes>"
      ]
     },
     "metadata": {
      "needs_background": "light"
     },
     "output_type": "display_data"
    },
    {
     "data": {
      "image/png": "[encoded data removed]",
      "text/plain": [
       "<Figure size 432x288 with 1 Axes>"
      ]
     },
     "metadata": {
      "needs_background": "light"
     },
     "output_type": "display_data"
    }
   ],
   "source": [
    "plt.figure(1)\n",
    "plt.plot(tr_acc, label='Training Accuracy')\n",
    "plt.plot(vl_acc, label='Validation Accuracy')\n",
    "plt.xlabel('Epoch')\n",
    "plt.ylabel('Accuracy')\n",
    "plt.title('Training and Validation Accuracy for Leukemia Classifier With ResNet')\n",
    "plt.legend()\n",
    "\n",
    "plt.figure(2)\n",
    "plt.plot(loss, label='Training Loss')\n",
    "plt.xlabel('Epoch')\n",
    "plt.ylabel('CE Loss')\n",
    "plt.title('Training CE Loss for Leukemia Classifier With ResNet')\n",
    "plt.legend()"
   ]
  }
 ],
 "metadata": {
  "kernelspec": {
   "display_name": "Python 3",
   "language": "python",
   "name": "python3"
  },
  "language_info": {
   "codemirror_mode": {
    "name": "ipython",
    "version": 3
   },
   "file_extension": ".py",
   "mimetype": "text/x-python",
   "name": "python",
   "nbconvert_exporter": "python",
   "pygments_lexer": "ipython3",
   "version": "3.10.1"
  },
  "orig_nbformat": 4
 },
 "nbformat": 4,
 "nbformat_minor": 2
}

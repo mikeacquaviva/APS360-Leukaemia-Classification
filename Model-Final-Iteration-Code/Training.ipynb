{
 "cells": [
  {
   "cell_type": "code",
   "execution_count": 1,
   "metadata": {},
   "outputs": [
    {
     "name": "stderr",
     "output_type": "stream",
     "text": [
      "c:\\Users\\micha\\AppData\\Local\\Programs\\Python\\Python310\\lib\\site-packages\\tqdm\\auto.py:21: TqdmWarning: IProgress not found. Please update jupyter and ipywidgets. See https://ipywidgets.readthedocs.io/en/stable/user_install.html\n",
      "  from .autonotebook import tqdm as notebook_tqdm\n"
     ]
    }
   ],
   "source": [
    "from LeukemiaClassifier import *\n",
    "import torch\n",
    "import numpy as np\n",
    "from torchvision.datasets import DatasetFolder\n",
    "from torch.utils.data import DataLoader, random_split, WeightedRandomSampler"
   ]
  },
  {
   "cell_type": "code",
   "execution_count": 2,
   "metadata": {},
   "outputs": [],
   "source": [
    "def npy_loader(path):\n",
    "    with open(path, 'r') as f:\n",
    "        data = np.loadtxt(f)\n",
    "    return data"
   ]
  },
  {
   "cell_type": "code",
   "execution_count": 12,
   "metadata": {},
   "outputs": [],
   "source": [
    "dataset = DatasetFolder(\"./Processed_Embeddings_Reduced/\", loader=npy_loader, extensions='.txt')\n",
    "\n",
    "class_count = {}\n",
    "for _, label in dataset:\n",
    "    if label not in class_count:\n",
    "        class_count[label] = 0\n",
    "    class_count[label] += 1\n",
    "\n",
    "num_train = int(2000*0.6)\n",
    "num_val = int(2000*0.2)\n",
    "num_test = int(2000*0.2)\n",
    "\n",
    "train_sampler = WeightedRandomSampler([0.25,0.25,0.25,0.25], num_train)\n",
    "val_sampler = WeightedRandomSampler([0.25,0.25,0.25,0.25], num_val)\n",
    "test_sampler = WeightedRandomSampler([0.25,0.25,0.25,0.25], num_val)\n",
    "\n",
    "train_dataset, val_dataset, _ = random_split(dataset, [num_train, num_val, len(dataset) - num_train - num_val])\n",
    "\n",
    "batch_size = 256\n",
    "train_loader = DataLoader(train_dataset, batch_size=batch_size, shuffle=True)\n",
    "val_loader = DataLoader(val_dataset, batch_size=batch_size, shuffle=False)"
   ]
  },
  {
   "cell_type": "code",
   "execution_count": 4,
   "metadata": {},
   "outputs": [
    {
     "name": "stdout",
     "output_type": "stream",
     "text": [
      "Training for 50 epochs using cuda...\n",
      "Epoch 1 |\t Loss: 1.46 |\t Training Accuracy: 0.26 |\t Validation Accuracy: 0.20\n",
      "Epoch 1 |\t Loss: 1.45 |\t Training Accuracy: 0.23 |\t Validation Accuracy: 0.28\n",
      "Epoch 1 |\t Loss: 1.46 |\t Training Accuracy: 0.23 |\t Validation Accuracy: 0.28\n",
      "Epoch 1 |\t Loss: 1.44 |\t Training Accuracy: 0.23 |\t Validation Accuracy: 0.28\n",
      "Epoch 1 |\t Loss: 1.42 |\t Training Accuracy: 0.23 |\t Validation Accuracy: 0.28\n",
      "Epoch 2 |\t Loss: 1.32 |\t Training Accuracy: 0.23 |\t Validation Accuracy: 0.28\n",
      "Epoch 2 |\t Loss: 1.33 |\t Training Accuracy: 0.23 |\t Validation Accuracy: 0.28\n",
      "Epoch 2 |\t Loss: 1.32 |\t Training Accuracy: 0.23 |\t Validation Accuracy: 0.28\n",
      "Epoch 2 |\t Loss: 1.30 |\t Training Accuracy: 0.23 |\t Validation Accuracy: 0.28\n",
      "Epoch 2 |\t Loss: 1.29 |\t Training Accuracy: 0.23 |\t Validation Accuracy: 0.28\n",
      "Epoch 3 |\t Loss: 1.27 |\t Training Accuracy: 0.23 |\t Validation Accuracy: 0.28\n",
      "Epoch 3 |\t Loss: 1.25 |\t Training Accuracy: 0.23 |\t Validation Accuracy: 0.28\n",
      "Epoch 3 |\t Loss: 1.26 |\t Training Accuracy: 0.23 |\t Validation Accuracy: 0.28\n",
      "Epoch 3 |\t Loss: 1.25 |\t Training Accuracy: 0.23 |\t Validation Accuracy: 0.28\n",
      "Epoch 3 |\t Loss: 1.25 |\t Training Accuracy: 0.23 |\t Validation Accuracy: 0.28\n",
      "Epoch 4 |\t Loss: 1.17 |\t Training Accuracy: 0.23 |\t Validation Accuracy: 0.28\n",
      "Epoch 4 |\t Loss: 1.16 |\t Training Accuracy: 0.23 |\t Validation Accuracy: 0.28\n",
      "Epoch 4 |\t Loss: 1.17 |\t Training Accuracy: 0.23 |\t Validation Accuracy: 0.28\n",
      "Epoch 4 |\t Loss: 1.17 |\t Training Accuracy: 0.23 |\t Validation Accuracy: 0.28\n",
      "Epoch 4 |\t Loss: 1.15 |\t Training Accuracy: 0.23 |\t Validation Accuracy: 0.28\n",
      "Epoch 5 |\t Loss: 1.09 |\t Training Accuracy: 0.23 |\t Validation Accuracy: 0.28\n",
      "Epoch 5 |\t Loss: 1.07 |\t Training Accuracy: 0.23 |\t Validation Accuracy: 0.28\n",
      "Epoch 5 |\t Loss: 1.08 |\t Training Accuracy: 0.23 |\t Validation Accuracy: 0.28\n",
      "Epoch 5 |\t Loss: 1.07 |\t Training Accuracy: 0.23 |\t Validation Accuracy: 0.28\n",
      "Epoch 5 |\t Loss: 1.08 |\t Training Accuracy: 0.24 |\t Validation Accuracy: 0.28\n",
      "Epoch 6 |\t Loss: 1.00 |\t Training Accuracy: 0.24 |\t Validation Accuracy: 0.29\n",
      "Epoch 6 |\t Loss: 1.02 |\t Training Accuracy: 0.26 |\t Validation Accuracy: 0.30\n",
      "Epoch 6 |\t Loss: 1.02 |\t Training Accuracy: 0.28 |\t Validation Accuracy: 0.32\n",
      "Epoch 6 |\t Loss: 1.01 |\t Training Accuracy: 0.31 |\t Validation Accuracy: 0.34\n",
      "Epoch 6 |\t Loss: 1.02 |\t Training Accuracy: 0.32 |\t Validation Accuracy: 0.38\n",
      "Epoch 7 |\t Loss: 0.98 |\t Training Accuracy: 0.37 |\t Validation Accuracy: 0.40\n",
      "Epoch 7 |\t Loss: 0.98 |\t Training Accuracy: 0.42 |\t Validation Accuracy: 0.44\n",
      "Epoch 7 |\t Loss: 0.98 |\t Training Accuracy: 0.46 |\t Validation Accuracy: 0.49\n",
      "Epoch 7 |\t Loss: 0.98 |\t Training Accuracy: 0.48 |\t Validation Accuracy: 0.51\n",
      "Epoch 7 |\t Loss: 0.98 |\t Training Accuracy: 0.50 |\t Validation Accuracy: 0.54\n",
      "Epoch 8 |\t Loss: 0.93 |\t Training Accuracy: 0.52 |\t Validation Accuracy: 0.55\n",
      "Epoch 8 |\t Loss: 0.94 |\t Training Accuracy: 0.52 |\t Validation Accuracy: 0.55\n",
      "Epoch 8 |\t Loss: 0.92 |\t Training Accuracy: 0.52 |\t Validation Accuracy: 0.55\n",
      "Epoch 8 |\t Loss: 0.92 |\t Training Accuracy: 0.52 |\t Validation Accuracy: 0.57\n",
      "Epoch 8 |\t Loss: 0.93 |\t Training Accuracy: 0.55 |\t Validation Accuracy: 0.56\n",
      "Epoch 9 |\t Loss: 0.86 |\t Training Accuracy: 0.56 |\t Validation Accuracy: 0.57\n",
      "Epoch 9 |\t Loss: 0.86 |\t Training Accuracy: 0.57 |\t Validation Accuracy: 0.58\n",
      "Epoch 9 |\t Loss: 0.87 |\t Training Accuracy: 0.58 |\t Validation Accuracy: 0.57\n",
      "Epoch 9 |\t Loss: 0.89 |\t Training Accuracy: 0.59 |\t Validation Accuracy: 0.58\n",
      "Epoch 9 |\t Loss: 0.89 |\t Training Accuracy: 0.59 |\t Validation Accuracy: 0.59\n",
      "Epoch 10 |\t Loss: 0.84 |\t Training Accuracy: 0.60 |\t Validation Accuracy: 0.60\n",
      "Epoch 10 |\t Loss: 0.84 |\t Training Accuracy: 0.58 |\t Validation Accuracy: 0.58\n",
      "Epoch 10 |\t Loss: 0.85 |\t Training Accuracy: 0.58 |\t Validation Accuracy: 0.59\n",
      "Epoch 10 |\t Loss: 0.84 |\t Training Accuracy: 0.60 |\t Validation Accuracy: 0.60\n",
      "Epoch 10 |\t Loss: 0.84 |\t Training Accuracy: 0.69 |\t Validation Accuracy: 0.66\n",
      "Epoch 11 |\t Loss: 0.78 |\t Training Accuracy: 0.67 |\t Validation Accuracy: 0.66\n",
      "Epoch 11 |\t Loss: 0.79 |\t Training Accuracy: 0.66 |\t Validation Accuracy: 0.67\n",
      "Epoch 11 |\t Loss: 0.79 |\t Training Accuracy: 0.66 |\t Validation Accuracy: 0.66\n",
      "Epoch 11 |\t Loss: 0.79 |\t Training Accuracy: 0.66 |\t Validation Accuracy: 0.67\n",
      "Epoch 11 |\t Loss: 0.78 |\t Training Accuracy: 0.68 |\t Validation Accuracy: 0.67\n",
      "Epoch 12 |\t Loss: 0.73 |\t Training Accuracy: 0.69 |\t Validation Accuracy: 0.67\n",
      "Epoch 12 |\t Loss: 0.75 |\t Training Accuracy: 0.69 |\t Validation Accuracy: 0.68\n",
      "Epoch 12 |\t Loss: 0.75 |\t Training Accuracy: 0.69 |\t Validation Accuracy: 0.69\n",
      "Epoch 12 |\t Loss: 0.76 |\t Training Accuracy: 0.69 |\t Validation Accuracy: 0.69\n",
      "Epoch 12 |\t Loss: 0.75 |\t Training Accuracy: 0.70 |\t Validation Accuracy: 0.69\n",
      "Epoch 13 |\t Loss: 0.77 |\t Training Accuracy: 0.70 |\t Validation Accuracy: 0.69\n",
      "Epoch 13 |\t Loss: 0.74 |\t Training Accuracy: 0.70 |\t Validation Accuracy: 0.69\n",
      "Epoch 13 |\t Loss: 0.73 |\t Training Accuracy: 0.69 |\t Validation Accuracy: 0.69\n",
      "Epoch 13 |\t Loss: 0.73 |\t Training Accuracy: 0.69 |\t Validation Accuracy: 0.69\n",
      "Epoch 13 |\t Loss: 0.73 |\t Training Accuracy: 0.69 |\t Validation Accuracy: 0.69\n",
      "Epoch 14 |\t Loss: 0.73 |\t Training Accuracy: 0.69 |\t Validation Accuracy: 0.69\n",
      "Epoch 14 |\t Loss: 0.73 |\t Training Accuracy: 0.69 |\t Validation Accuracy: 0.68\n",
      "Epoch 14 |\t Loss: 0.71 |\t Training Accuracy: 0.69 |\t Validation Accuracy: 0.69\n",
      "Epoch 14 |\t Loss: 0.71 |\t Training Accuracy: 0.70 |\t Validation Accuracy: 0.70\n",
      "Epoch 14 |\t Loss: 0.70 |\t Training Accuracy: 0.71 |\t Validation Accuracy: 0.70\n",
      "Epoch 15 |\t Loss: 0.65 |\t Training Accuracy: 0.71 |\t Validation Accuracy: 0.70\n",
      "Epoch 15 |\t Loss: 0.65 |\t Training Accuracy: 0.72 |\t Validation Accuracy: 0.72\n",
      "Epoch 15 |\t Loss: 0.66 |\t Training Accuracy: 0.73 |\t Validation Accuracy: 0.72\n",
      "Epoch 15 |\t Loss: 0.67 |\t Training Accuracy: 0.73 |\t Validation Accuracy: 0.71\n",
      "Epoch 15 |\t Loss: 0.68 |\t Training Accuracy: 0.73 |\t Validation Accuracy: 0.72\n",
      "Epoch 16 |\t Loss: 0.69 |\t Training Accuracy: 0.73 |\t Validation Accuracy: 0.72\n",
      "Epoch 16 |\t Loss: 0.66 |\t Training Accuracy: 0.72 |\t Validation Accuracy: 0.72\n",
      "Epoch 16 |\t Loss: 0.67 |\t Training Accuracy: 0.71 |\t Validation Accuracy: 0.70\n",
      "Epoch 16 |\t Loss: 0.67 |\t Training Accuracy: 0.70 |\t Validation Accuracy: 0.70\n",
      "Epoch 16 |\t Loss: 0.68 |\t Training Accuracy: 0.70 |\t Validation Accuracy: 0.70\n",
      "Epoch 17 |\t Loss: 0.69 |\t Training Accuracy: 0.70 |\t Validation Accuracy: 0.69\n",
      "Epoch 17 |\t Loss: 0.70 |\t Training Accuracy: 0.70 |\t Validation Accuracy: 0.68\n",
      "Epoch 17 |\t Loss: 0.69 |\t Training Accuracy: 0.69 |\t Validation Accuracy: 0.68\n",
      "Epoch 17 |\t Loss: 0.67 |\t Training Accuracy: 0.70 |\t Validation Accuracy: 0.70\n",
      "Epoch 17 |\t Loss: 0.68 |\t Training Accuracy: 0.70 |\t Validation Accuracy: 0.70\n",
      "Epoch 18 |\t Loss: 0.65 |\t Training Accuracy: 0.70 |\t Validation Accuracy: 0.69\n",
      "Epoch 18 |\t Loss: 0.64 |\t Training Accuracy: 0.70 |\t Validation Accuracy: 0.69\n",
      "Epoch 18 |\t Loss: 0.66 |\t Training Accuracy: 0.70 |\t Validation Accuracy: 0.70\n",
      "Epoch 18 |\t Loss: 0.67 |\t Training Accuracy: 0.71 |\t Validation Accuracy: 0.69\n",
      "Epoch 18 |\t Loss: 0.66 |\t Training Accuracy: 0.70 |\t Validation Accuracy: 0.69\n",
      "Epoch 19 |\t Loss: 0.63 |\t Training Accuracy: 0.70 |\t Validation Accuracy: 0.69\n",
      "Epoch 19 |\t Loss: 0.62 |\t Training Accuracy: 0.70 |\t Validation Accuracy: 0.69\n",
      "Epoch 19 |\t Loss: 0.60 |\t Training Accuracy: 0.70 |\t Validation Accuracy: 0.69\n",
      "Epoch 19 |\t Loss: 0.64 |\t Training Accuracy: 0.70 |\t Validation Accuracy: 0.69\n",
      "Epoch 19 |\t Loss: 0.66 |\t Training Accuracy: 0.71 |\t Validation Accuracy: 0.69\n",
      "Epoch 20 |\t Loss: 0.66 |\t Training Accuracy: 0.73 |\t Validation Accuracy: 0.70\n",
      "Epoch 20 |\t Loss: 0.64 |\t Training Accuracy: 0.73 |\t Validation Accuracy: 0.71\n",
      "Epoch 20 |\t Loss: 0.64 |\t Training Accuracy: 0.74 |\t Validation Accuracy: 0.72\n",
      "Epoch 20 |\t Loss: 0.64 |\t Training Accuracy: 0.75 |\t Validation Accuracy: 0.73\n",
      "Epoch 20 |\t Loss: 0.64 |\t Training Accuracy: 0.76 |\t Validation Accuracy: 0.74\n",
      "Epoch 21 |\t Loss: 0.63 |\t Training Accuracy: 0.76 |\t Validation Accuracy: 0.74\n",
      "Epoch 21 |\t Loss: 0.70 |\t Training Accuracy: 0.75 |\t Validation Accuracy: 0.73\n",
      "Epoch 21 |\t Loss: 0.67 |\t Training Accuracy: 0.73 |\t Validation Accuracy: 0.70\n",
      "Epoch 21 |\t Loss: 0.66 |\t Training Accuracy: 0.72 |\t Validation Accuracy: 0.69\n",
      "Epoch 21 |\t Loss: 0.65 |\t Training Accuracy: 0.72 |\t Validation Accuracy: 0.69\n",
      "Epoch 22 |\t Loss: 0.60 |\t Training Accuracy: 0.71 |\t Validation Accuracy: 0.69\n",
      "Epoch 22 |\t Loss: 0.64 |\t Training Accuracy: 0.72 |\t Validation Accuracy: 0.69\n",
      "Epoch 22 |\t Loss: 0.63 |\t Training Accuracy: 0.72 |\t Validation Accuracy: 0.69\n",
      "Epoch 22 |\t Loss: 0.63 |\t Training Accuracy: 0.72 |\t Validation Accuracy: 0.70\n",
      "Epoch 22 |\t Loss: 0.63 |\t Training Accuracy: 0.72 |\t Validation Accuracy: 0.71\n",
      "Epoch 23 |\t Loss: 0.60 |\t Training Accuracy: 0.73 |\t Validation Accuracy: 0.72\n",
      "Epoch 23 |\t Loss: 0.60 |\t Training Accuracy: 0.73 |\t Validation Accuracy: 0.72\n",
      "Epoch 23 |\t Loss: 0.59 |\t Training Accuracy: 0.74 |\t Validation Accuracy: 0.72\n",
      "Epoch 23 |\t Loss: 0.62 |\t Training Accuracy: 0.74 |\t Validation Accuracy: 0.72\n",
      "Epoch 23 |\t Loss: 0.62 |\t Training Accuracy: 0.74 |\t Validation Accuracy: 0.73\n",
      "Epoch 24 |\t Loss: 0.66 |\t Training Accuracy: 0.74 |\t Validation Accuracy: 0.73\n",
      "Epoch 24 |\t Loss: 0.64 |\t Training Accuracy: 0.74 |\t Validation Accuracy: 0.73\n",
      "Epoch 24 |\t Loss: 0.62 |\t Training Accuracy: 0.74 |\t Validation Accuracy: 0.73\n",
      "Epoch 24 |\t Loss: 0.63 |\t Training Accuracy: 0.75 |\t Validation Accuracy: 0.74\n",
      "Epoch 24 |\t Loss: 0.63 |\t Training Accuracy: 0.75 |\t Validation Accuracy: 0.73\n",
      "Epoch 25 |\t Loss: 0.62 |\t Training Accuracy: 0.74 |\t Validation Accuracy: 0.72\n",
      "Epoch 25 |\t Loss: 0.63 |\t Training Accuracy: 0.74 |\t Validation Accuracy: 0.72\n",
      "Epoch 25 |\t Loss: 0.62 |\t Training Accuracy: 0.74 |\t Validation Accuracy: 0.72\n",
      "Epoch 25 |\t Loss: 0.63 |\t Training Accuracy: 0.73 |\t Validation Accuracy: 0.71\n",
      "Epoch 25 |\t Loss: 0.63 |\t Training Accuracy: 0.73 |\t Validation Accuracy: 0.71\n",
      "Epoch 26 |\t Loss: 0.53 |\t Training Accuracy: 0.73 |\t Validation Accuracy: 0.71\n",
      "Epoch 26 |\t Loss: 0.63 |\t Training Accuracy: 0.74 |\t Validation Accuracy: 0.71\n",
      "Epoch 26 |\t Loss: 0.62 |\t Training Accuracy: 0.74 |\t Validation Accuracy: 0.71\n",
      "Epoch 26 |\t Loss: 0.61 |\t Training Accuracy: 0.75 |\t Validation Accuracy: 0.73\n",
      "Epoch 26 |\t Loss: 0.62 |\t Training Accuracy: 0.75 |\t Validation Accuracy: 0.72\n",
      "Epoch 27 |\t Loss: 0.58 |\t Training Accuracy: 0.74 |\t Validation Accuracy: 0.71\n",
      "Epoch 27 |\t Loss: 0.57 |\t Training Accuracy: 0.74 |\t Validation Accuracy: 0.72\n",
      "Epoch 27 |\t Loss: 0.60 |\t Training Accuracy: 0.74 |\t Validation Accuracy: 0.72\n",
      "Epoch 27 |\t Loss: 0.60 |\t Training Accuracy: 0.74 |\t Validation Accuracy: 0.73\n",
      "Epoch 27 |\t Loss: 0.61 |\t Training Accuracy: 0.74 |\t Validation Accuracy: 0.73\n",
      "Epoch 28 |\t Loss: 0.60 |\t Training Accuracy: 0.75 |\t Validation Accuracy: 0.73\n",
      "Epoch 28 |\t Loss: 0.64 |\t Training Accuracy: 0.75 |\t Validation Accuracy: 0.72\n",
      "Epoch 28 |\t Loss: 0.62 |\t Training Accuracy: 0.75 |\t Validation Accuracy: 0.72\n",
      "Epoch 28 |\t Loss: 0.62 |\t Training Accuracy: 0.75 |\t Validation Accuracy: 0.72\n",
      "Epoch 28 |\t Loss: 0.60 |\t Training Accuracy: 0.76 |\t Validation Accuracy: 0.72\n",
      "Epoch 29 |\t Loss: 0.67 |\t Training Accuracy: 0.77 |\t Validation Accuracy: 0.72\n",
      "Epoch 29 |\t Loss: 0.62 |\t Training Accuracy: 0.77 |\t Validation Accuracy: 0.73\n",
      "Epoch 29 |\t Loss: 0.62 |\t Training Accuracy: 0.77 |\t Validation Accuracy: 0.74\n",
      "Epoch 29 |\t Loss: 0.61 |\t Training Accuracy: 0.78 |\t Validation Accuracy: 0.74\n",
      "Epoch 29 |\t Loss: 0.62 |\t Training Accuracy: 0.78 |\t Validation Accuracy: 0.75\n",
      "Epoch 30 |\t Loss: 0.60 |\t Training Accuracy: 0.78 |\t Validation Accuracy: 0.75\n",
      "Epoch 30 |\t Loss: 0.66 |\t Training Accuracy: 0.78 |\t Validation Accuracy: 0.76\n",
      "Epoch 30 |\t Loss: 0.62 |\t Training Accuracy: 0.78 |\t Validation Accuracy: 0.76\n",
      "Epoch 30 |\t Loss: 0.62 |\t Training Accuracy: 0.78 |\t Validation Accuracy: 0.76\n",
      "Epoch 30 |\t Loss: 0.60 |\t Training Accuracy: 0.78 |\t Validation Accuracy: 0.76\n",
      "Epoch 31 |\t Loss: 0.66 |\t Training Accuracy: 0.78 |\t Validation Accuracy: 0.75\n",
      "Epoch 31 |\t Loss: 0.63 |\t Training Accuracy: 0.78 |\t Validation Accuracy: 0.74\n",
      "Epoch 31 |\t Loss: 0.63 |\t Training Accuracy: 0.78 |\t Validation Accuracy: 0.74\n",
      "Epoch 31 |\t Loss: 0.62 |\t Training Accuracy: 0.78 |\t Validation Accuracy: 0.74\n",
      "Epoch 31 |\t Loss: 0.61 |\t Training Accuracy: 0.77 |\t Validation Accuracy: 0.73\n",
      "Epoch 32 |\t Loss: 0.61 |\t Training Accuracy: 0.77 |\t Validation Accuracy: 0.74\n",
      "Epoch 32 |\t Loss: 0.60 |\t Training Accuracy: 0.77 |\t Validation Accuracy: 0.74\n",
      "Epoch 32 |\t Loss: 0.63 |\t Training Accuracy: 0.78 |\t Validation Accuracy: 0.74\n",
      "Epoch 32 |\t Loss: 0.63 |\t Training Accuracy: 0.78 |\t Validation Accuracy: 0.74\n",
      "Epoch 32 |\t Loss: 0.63 |\t Training Accuracy: 0.79 |\t Validation Accuracy: 0.74\n",
      "Epoch 33 |\t Loss: 0.62 |\t Training Accuracy: 0.79 |\t Validation Accuracy: 0.74\n",
      "Epoch 33 |\t Loss: 0.59 |\t Training Accuracy: 0.79 |\t Validation Accuracy: 0.75\n",
      "Epoch 33 |\t Loss: 0.62 |\t Training Accuracy: 0.79 |\t Validation Accuracy: 0.76\n",
      "Epoch 33 |\t Loss: 0.60 |\t Training Accuracy: 0.79 |\t Validation Accuracy: 0.76\n",
      "Epoch 33 |\t Loss: 0.60 |\t Training Accuracy: 0.79 |\t Validation Accuracy: 0.76\n",
      "Epoch 34 |\t Loss: 0.67 |\t Training Accuracy: 0.80 |\t Validation Accuracy: 0.76\n",
      "Epoch 34 |\t Loss: 0.64 |\t Training Accuracy: 0.80 |\t Validation Accuracy: 0.76\n",
      "Epoch 34 |\t Loss: 0.63 |\t Training Accuracy: 0.80 |\t Validation Accuracy: 0.77\n",
      "Epoch 34 |\t Loss: 0.60 |\t Training Accuracy: 0.80 |\t Validation Accuracy: 0.77\n",
      "Epoch 34 |\t Loss: 0.59 |\t Training Accuracy: 0.79 |\t Validation Accuracy: 0.77\n",
      "Epoch 35 |\t Loss: 0.64 |\t Training Accuracy: 0.80 |\t Validation Accuracy: 0.76\n",
      "Epoch 35 |\t Loss: 0.59 |\t Training Accuracy: 0.80 |\t Validation Accuracy: 0.76\n",
      "Epoch 35 |\t Loss: 0.58 |\t Training Accuracy: 0.80 |\t Validation Accuracy: 0.76\n",
      "Epoch 35 |\t Loss: 0.59 |\t Training Accuracy: 0.79 |\t Validation Accuracy: 0.76\n",
      "Epoch 35 |\t Loss: 0.59 |\t Training Accuracy: 0.79 |\t Validation Accuracy: 0.76\n",
      "Epoch 36 |\t Loss: 0.61 |\t Training Accuracy: 0.79 |\t Validation Accuracy: 0.76\n",
      "Epoch 36 |\t Loss: 0.60 |\t Training Accuracy: 0.78 |\t Validation Accuracy: 0.75\n",
      "Epoch 36 |\t Loss: 0.59 |\t Training Accuracy: 0.79 |\t Validation Accuracy: 0.75\n",
      "Epoch 36 |\t Loss: 0.58 |\t Training Accuracy: 0.79 |\t Validation Accuracy: 0.75\n",
      "Epoch 36 |\t Loss: 0.59 |\t Training Accuracy: 0.78 |\t Validation Accuracy: 0.75\n",
      "Epoch 37 |\t Loss: 0.59 |\t Training Accuracy: 0.78 |\t Validation Accuracy: 0.75\n",
      "Epoch 37 |\t Loss: 0.59 |\t Training Accuracy: 0.78 |\t Validation Accuracy: 0.75\n",
      "Epoch 37 |\t Loss: 0.58 |\t Training Accuracy: 0.78 |\t Validation Accuracy: 0.75\n",
      "Epoch 37 |\t Loss: 0.58 |\t Training Accuracy: 0.78 |\t Validation Accuracy: 0.75\n",
      "Epoch 37 |\t Loss: 0.61 |\t Training Accuracy: 0.78 |\t Validation Accuracy: 0.75\n",
      "Epoch 38 |\t Loss: 0.55 |\t Training Accuracy: 0.78 |\t Validation Accuracy: 0.75\n",
      "Epoch 38 |\t Loss: 0.59 |\t Training Accuracy: 0.78 |\t Validation Accuracy: 0.75\n",
      "Epoch 38 |\t Loss: 0.56 |\t Training Accuracy: 0.78 |\t Validation Accuracy: 0.75\n",
      "Epoch 38 |\t Loss: 0.55 |\t Training Accuracy: 0.78 |\t Validation Accuracy: 0.75\n",
      "Epoch 38 |\t Loss: 0.58 |\t Training Accuracy: 0.78 |\t Validation Accuracy: 0.74\n",
      "Epoch 39 |\t Loss: 0.60 |\t Training Accuracy: 0.78 |\t Validation Accuracy: 0.75\n",
      "Epoch 39 |\t Loss: 0.57 |\t Training Accuracy: 0.78 |\t Validation Accuracy: 0.75\n",
      "Epoch 39 |\t Loss: 0.55 |\t Training Accuracy: 0.78 |\t Validation Accuracy: 0.75\n",
      "Epoch 39 |\t Loss: 0.57 |\t Training Accuracy: 0.79 |\t Validation Accuracy: 0.75\n",
      "Epoch 39 |\t Loss: 0.59 |\t Training Accuracy: 0.79 |\t Validation Accuracy: 0.76\n",
      "Epoch 40 |\t Loss: 0.55 |\t Training Accuracy: 0.79 |\t Validation Accuracy: 0.75\n",
      "Epoch 40 |\t Loss: 0.58 |\t Training Accuracy: 0.79 |\t Validation Accuracy: 0.75\n",
      "Epoch 40 |\t Loss: 0.59 |\t Training Accuracy: 0.80 |\t Validation Accuracy: 0.75\n",
      "Epoch 40 |\t Loss: 0.60 |\t Training Accuracy: 0.80 |\t Validation Accuracy: 0.76\n",
      "Epoch 40 |\t Loss: 0.59 |\t Training Accuracy: 0.80 |\t Validation Accuracy: 0.76\n",
      "Epoch 41 |\t Loss: 0.56 |\t Training Accuracy: 0.80 |\t Validation Accuracy: 0.76\n",
      "Epoch 41 |\t Loss: 0.55 |\t Training Accuracy: 0.80 |\t Validation Accuracy: 0.76\n",
      "Epoch 41 |\t Loss: 0.54 |\t Training Accuracy: 0.80 |\t Validation Accuracy: 0.76\n",
      "Epoch 41 |\t Loss: 0.56 |\t Training Accuracy: 0.80 |\t Validation Accuracy: 0.76\n",
      "Epoch 41 |\t Loss: 0.57 |\t Training Accuracy: 0.80 |\t Validation Accuracy: 0.76\n",
      "Epoch 42 |\t Loss: 0.62 |\t Training Accuracy: 0.80 |\t Validation Accuracy: 0.76\n",
      "Epoch 42 |\t Loss: 0.60 |\t Training Accuracy: 0.80 |\t Validation Accuracy: 0.76\n",
      "Epoch 42 |\t Loss: 0.58 |\t Training Accuracy: 0.80 |\t Validation Accuracy: 0.76\n",
      "Epoch 42 |\t Loss: 0.57 |\t Training Accuracy: 0.80 |\t Validation Accuracy: 0.77\n",
      "Epoch 42 |\t Loss: 0.59 |\t Training Accuracy: 0.81 |\t Validation Accuracy: 0.77\n",
      "Epoch 43 |\t Loss: 0.57 |\t Training Accuracy: 0.80 |\t Validation Accuracy: 0.77\n",
      "Epoch 43 |\t Loss: 0.58 |\t Training Accuracy: 0.80 |\t Validation Accuracy: 0.76\n",
      "Epoch 43 |\t Loss: 0.58 |\t Training Accuracy: 0.80 |\t Validation Accuracy: 0.77\n",
      "Epoch 43 |\t Loss: 0.58 |\t Training Accuracy: 0.80 |\t Validation Accuracy: 0.77\n",
      "Epoch 43 |\t Loss: 0.58 |\t Training Accuracy: 0.80 |\t Validation Accuracy: 0.77\n",
      "Epoch 44 |\t Loss: 0.57 |\t Training Accuracy: 0.80 |\t Validation Accuracy: 0.77\n",
      "Epoch 44 |\t Loss: 0.53 |\t Training Accuracy: 0.80 |\t Validation Accuracy: 0.77\n",
      "Epoch 44 |\t Loss: 0.55 |\t Training Accuracy: 0.80 |\t Validation Accuracy: 0.77\n",
      "Epoch 44 |\t Loss: 0.56 |\t Training Accuracy: 0.80 |\t Validation Accuracy: 0.77\n",
      "Epoch 44 |\t Loss: 0.57 |\t Training Accuracy: 0.80 |\t Validation Accuracy: 0.77\n",
      "Epoch 45 |\t Loss: 0.58 |\t Training Accuracy: 0.80 |\t Validation Accuracy: 0.77\n",
      "Epoch 45 |\t Loss: 0.58 |\t Training Accuracy: 0.80 |\t Validation Accuracy: 0.77\n",
      "Epoch 45 |\t Loss: 0.56 |\t Training Accuracy: 0.80 |\t Validation Accuracy: 0.77\n",
      "Epoch 45 |\t Loss: 0.58 |\t Training Accuracy: 0.80 |\t Validation Accuracy: 0.77\n",
      "Epoch 45 |\t Loss: 0.58 |\t Training Accuracy: 0.80 |\t Validation Accuracy: 0.77\n",
      "Epoch 46 |\t Loss: 0.55 |\t Training Accuracy: 0.80 |\t Validation Accuracy: 0.77\n",
      "Epoch 46 |\t Loss: 0.54 |\t Training Accuracy: 0.80 |\t Validation Accuracy: 0.77\n",
      "Epoch 46 |\t Loss: 0.56 |\t Training Accuracy: 0.80 |\t Validation Accuracy: 0.77\n",
      "Epoch 46 |\t Loss: 0.56 |\t Training Accuracy: 0.80 |\t Validation Accuracy: 0.77\n",
      "Epoch 46 |\t Loss: 0.56 |\t Training Accuracy: 0.80 |\t Validation Accuracy: 0.77\n",
      "Epoch 47 |\t Loss: 0.54 |\t Training Accuracy: 0.80 |\t Validation Accuracy: 0.77\n",
      "Epoch 47 |\t Loss: 0.53 |\t Training Accuracy: 0.80 |\t Validation Accuracy: 0.77\n",
      "Epoch 47 |\t Loss: 0.55 |\t Training Accuracy: 0.80 |\t Validation Accuracy: 0.77\n",
      "Epoch 47 |\t Loss: 0.56 |\t Training Accuracy: 0.80 |\t Validation Accuracy: 0.77\n",
      "Epoch 47 |\t Loss: 0.56 |\t Training Accuracy: 0.80 |\t Validation Accuracy: 0.77\n",
      "Epoch 48 |\t Loss: 0.54 |\t Training Accuracy: 0.80 |\t Validation Accuracy: 0.77\n",
      "Epoch 48 |\t Loss: 0.56 |\t Training Accuracy: 0.80 |\t Validation Accuracy: 0.77\n",
      "Epoch 48 |\t Loss: 0.57 |\t Training Accuracy: 0.80 |\t Validation Accuracy: 0.78\n",
      "Epoch 48 |\t Loss: 0.56 |\t Training Accuracy: 0.80 |\t Validation Accuracy: 0.77\n",
      "Epoch 48 |\t Loss: 0.57 |\t Training Accuracy: 0.80 |\t Validation Accuracy: 0.77\n",
      "Epoch 49 |\t Loss: 0.51 |\t Training Accuracy: 0.80 |\t Validation Accuracy: 0.77\n",
      "Epoch 49 |\t Loss: 0.60 |\t Training Accuracy: 0.80 |\t Validation Accuracy: 0.77\n",
      "Epoch 49 |\t Loss: 0.59 |\t Training Accuracy: 0.80 |\t Validation Accuracy: 0.77\n",
      "Epoch 49 |\t Loss: 0.60 |\t Training Accuracy: 0.80 |\t Validation Accuracy: 0.77\n",
      "Epoch 49 |\t Loss: 0.58 |\t Training Accuracy: 0.80 |\t Validation Accuracy: 0.77\n",
      "Epoch 50 |\t Loss: 0.61 |\t Training Accuracy: 0.81 |\t Validation Accuracy: 0.77\n",
      "Epoch 50 |\t Loss: 0.58 |\t Training Accuracy: 0.81 |\t Validation Accuracy: 0.77\n",
      "Epoch 50 |\t Loss: 0.56 |\t Training Accuracy: 0.81 |\t Validation Accuracy: 0.77\n",
      "Epoch 50 |\t Loss: 0.56 |\t Training Accuracy: 0.81 |\t Validation Accuracy: 0.77\n",
      "Epoch 50 |\t Loss: 0.57 |\t Training Accuracy: 0.81 |\t Validation Accuracy: 0.77\n"
     ]
    }
   ],
   "source": [
    "model = LeukemiaClassifier()\n",
    "init_weights(model)\n",
    "loss, tr_acc, vl_acc = train(model, train_loader, val_loader, initial_lr=0.1, epochs=50)"
   ]
  },
  {
   "cell_type": "code",
   "execution_count": 5,
   "metadata": {},
   "outputs": [
    {
     "name": "stderr",
     "output_type": "stream",
     "text": [
      "c:\\Users\\micha\\AppData\\Local\\Programs\\Python\\Python310\\lib\\site-packages\\scipy\\__init__.py:146: UserWarning: A NumPy version >=1.16.5 and <1.23.0 is required for this version of SciPy (detected version 1.24.1\n",
      "  warnings.warn(f\"A NumPy version >={np_minversion} and <{np_maxversion}\"\n"
     ]
    }
   ],
   "source": [
    "from sklearn.metrics import confusion_matrix\n",
    "from sklearn.metrics import classification_report\n",
    "import matplotlib.pyplot as plt\n",
    "import seaborn as sns\n",
    "import pandas as pd"
   ]
  },
  {
   "cell_type": "code",
   "execution_count": 6,
   "metadata": {},
   "outputs": [],
   "source": [
    "def draw_confusion_matrix(predicted_labels, actual_labels):\n",
    "\n",
    "    cm = confusion_matrix(actual_labels, predicted_labels)\n",
    "    cm_df = pd.DataFrame(cm,\n",
    "                     index = ['BENIGN','EARLY','PRE', 'PRO'], \n",
    "                     columns = ['BENIGN','EARLY', 'PRE', 'PRO'])\n",
    "\n",
    "    plt.figure(figsize=(5,4))\n",
    "    sns.heatmap(cm_df, annot=True)\n",
    "    plt.title('Confusion Matrix for Leukemia Classifier')\n",
    "    plt.ylabel('Actual Class')\n",
    "    plt.xlabel('Predicted Class')\n",
    "    plt.show()\n",
    "\n",
    "def print_model_report(predicted_labels, actual_labels, class_names):\n",
    "    print(classification_report(actual_labels, predicted_labels, target_names=class_names))"
   ]
  },
  {
   "cell_type": "code",
   "execution_count": 7,
   "metadata": {},
   "outputs": [
    {
     "data": {
      "image/png": "[encoded data removed]",
      "text/plain": [
       "<Figure size 360x288 with 2 Axes>"
      ]
     },
     "metadata": {
      "needs_background": "light"
     },
     "output_type": "display_data"
    },
    {
     "name": "stdout",
     "output_type": "stream",
     "text": [
      "              precision    recall  f1-score   support\n",
      "\n",
      "      BENIGN       0.61      0.86      0.71        81\n",
      "       EARLY       0.64      0.56      0.60       106\n",
      "         PRE       0.84      0.72      0.77        99\n",
      "         PRO       1.00      0.95      0.97       114\n",
      "\n",
      "    accuracy                           0.77       400\n",
      "   macro avg       0.77      0.77      0.76       400\n",
      "weighted avg       0.78      0.77      0.77       400\n",
      "\n"
     ]
    }
   ],
   "source": [
    "model = model.cpu()\n",
    "test_loader = DataLoader(val_dataset, batch_size=batch_size, shuffle=False)\n",
    "predicted_labels = np.array([])\n",
    "actual_labels = np.array([])\n",
    "for x, y in test_loader:\n",
    "    predicted_labels = np.append(predicted_labels, model(x).argmax(dim=1).numpy())\n",
    "    actual_labels = np.append(actual_labels, y.numpy())\n",
    "class_names = ['BENIGN','EARLY', 'PRE', 'PRO']\n",
    "draw_confusion_matrix(predicted_labels, actual_labels)\n",
    "print_model_report(predicted_labels, actual_labels, class_names)"
   ]
  },
  {
   "cell_type": "code",
   "execution_count": 8,
   "metadata": {},
   "outputs": [
    {
     "data": {
      "text/plain": [
       "<matplotlib.legend.Legend at 0x1ef63c8ddb0>"
      ]
     },
     "execution_count": 8,
     "metadata": {},
     "output_type": "execute_result"
    },
    {
     "data": {
      "image/png": "[encoded data removed]",
      "text/plain": [
       "<Figure size 432x288 with 1 Axes>"
      ]
     },
     "metadata": {
      "needs_background": "light"
     },
     "output_type": "display_data"
    },
    {
     "data": {
      "image/png": "[encoded data removed]",
      "text/plain": [
       "<Figure size 432x288 with 1 Axes>"
      ]
     },
     "metadata": {
      "needs_background": "light"
     },
     "output_type": "display_data"
    }
   ],
   "source": [
    "plt.figure(1)\n",
    "plt.plot(tr_acc, label='Training Accuracy')\n",
    "plt.plot(vl_acc, label='Validation Accuracy')\n",
    "plt.xlabel('Epoch')\n",
    "plt.ylabel('Accuracy')\n",
    "plt.title('Training and Validation Accuracy for Leukemia Classifier')\n",
    "plt.legend()\n",
    "\n",
    "plt.figure(2)\n",
    "plt.plot(loss, label='Training Loss')\n",
    "plt.xlabel('Epoch')\n",
    "plt.ylabel('CE Loss')\n",
    "plt.title('Training CE Loss for Leukemia Classifier')\n",
    "plt.legend()"
   ]
  },
  {
   "cell_type": "code",
   "execution_count": 9,
   "metadata": {},
   "outputs": [
    {
     "data": {
      "text/plain": [
       "LeukemiaClassifier(\n",
       "  (upscale1): Linear(in_features=512, out_features=1024, bias=True)\n",
       "  (fc1): Linear(in_features=1024, out_features=1024, bias=True)\n",
       "  (upscale2): Linear(in_features=1024, out_features=2048, bias=True)\n",
       "  (fc2): Linear(in_features=2048, out_features=2048, bias=True)\n",
       "  (downscale1): Linear(in_features=2048, out_features=1024, bias=True)\n",
       "  (fc3): Linear(in_features=1024, out_features=1024, bias=True)\n",
       "  (downscale2): Linear(in_features=1024, out_features=512, bias=True)\n",
       "  (fc4): Linear(in_features=512, out_features=512, bias=True)\n",
       "  (downscale3): Linear(in_features=512, out_features=256, bias=True)\n",
       "  (fc5): Linear(in_features=256, out_features=256, bias=True)\n",
       "  (downscale4): Linear(in_features=256, out_features=64, bias=True)\n",
       "  (fc6): Linear(in_features=64, out_features=64, bias=True)\n",
       "  (downscale5): Linear(in_features=64, out_features=16, bias=True)\n",
       "  (fc7): Linear(in_features=16, out_features=16, bias=True)\n",
       "  (downscale6): Linear(in_features=16, out_features=4, bias=True)\n",
       "  (bn1): BatchNorm1d(1024, eps=1e-05, momentum=0.1, affine=True, track_running_stats=True)\n",
       "  (bn2): BatchNorm1d(2048, eps=1e-05, momentum=0.1, affine=True, track_running_stats=True)\n",
       "  (bn3): BatchNorm1d(1024, eps=1e-05, momentum=0.1, affine=True, track_running_stats=True)\n",
       "  (bn4): BatchNorm1d(512, eps=1e-05, momentum=0.1, affine=True, track_running_stats=True)\n",
       "  (bn5): BatchNorm1d(256, eps=1e-05, momentum=0.1, affine=True, track_running_stats=True)\n",
       "  (bn6): BatchNorm1d(64, eps=1e-05, momentum=0.1, affine=True, track_running_stats=True)\n",
       "  (bn7): BatchNorm1d(16, eps=1e-05, momentum=0.1, affine=True, track_running_stats=True)\n",
       "  (drop1): Dropout(p=0.5, inplace=False)\n",
       "  (drop2): Dropout(p=0.5, inplace=False)\n",
       "  (drop3): Dropout(p=0.5, inplace=False)\n",
       "  (drop4): Dropout(p=0.5, inplace=False)\n",
       "  (drop5): Dropout(p=0.5, inplace=False)\n",
       "  (drop6): Dropout(p=0.5, inplace=False)\n",
       ")"
      ]
     },
     "execution_count": 9,
     "metadata": {},
     "output_type": "execute_result"
    }
   ],
   "source": [
    "arch = LeukemiaClassifier()\n",
    "#load the state dictionary\n",
    "arch.load_state_dict(torch.load('Trained_Model_Iteration_1'))\n",
    "arch.eval()"
   ]
  },
  {
   "cell_type": "code",
   "execution_count": 14,
   "metadata": {},
   "outputs": [
    {
     "data": {
      "image/png": "[encoded data removed]",
      "text/plain": [
       "<Figure size 360x288 with 2 Axes>"
      ]
     },
     "metadata": {
      "needs_background": "light"
     },
     "output_type": "display_data"
    },
    {
     "name": "stdout",
     "output_type": "stream",
     "text": [
      "              precision    recall  f1-score   support\n",
      "\n",
      "      BENIGN       0.66      0.79      0.72        96\n",
      "       EARLY       0.65      0.65      0.65        99\n",
      "         PRE       0.87      0.78      0.82        91\n",
      "         PRO       1.00      0.91      0.95       114\n",
      "\n",
      "    accuracy                           0.79       400\n",
      "   macro avg       0.79      0.78      0.79       400\n",
      "weighted avg       0.80      0.79      0.79       400\n",
      "\n"
     ]
    }
   ],
   "source": [
    "test_loader = DataLoader(val_dataset, batch_size=batch_size, shuffle=False)\n",
    "predicted_labels = np.array([])\n",
    "actual_labels = np.array([])\n",
    "for x, y in test_loader:\n",
    "    predicted_labels = np.append(predicted_labels, arch(x).argmax(dim=1).numpy())\n",
    "    actual_labels = np.append(actual_labels, y.numpy())\n",
    "class_names = ['BENIGN','EARLY', 'PRE', 'PRO']\n",
    "draw_confusion_matrix(predicted_labels, actual_labels)\n",
    "print_model_report(predicted_labels, actual_labels, class_names)"
   ]
  }
 ],
 "metadata": {
  "kernelspec": {
   "display_name": "Python 3",
   "language": "python",
   "name": "python3"
  },
  "language_info": {
   "codemirror_mode": {
    "name": "ipython",
    "version": 3
   },
   "file_extension": ".py",
   "mimetype": "text/x-python",
   "name": "python",
   "nbconvert_exporter": "python",
   "pygments_lexer": "ipython3",
   "version": "3.10.1"
  },
  "orig_nbformat": 4
 },
 "nbformat": 4,
 "nbformat_minor": 2
}

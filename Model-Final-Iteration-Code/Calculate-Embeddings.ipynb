{
  "cells": [
    {
      "cell_type": "code",
      "execution_count": 1,
      "metadata": {
        "colab": {
          "base_uri": "https://localhost:8080/"
        },
        "id": "mWdf4cR-yB_5",
        "outputId": "ed97f3c5-322d-4408-bdac-e36df900cff9"
      },
      "outputs": [
        {
          "name": "stderr",
          "output_type": "stream",
          "text": [
            "c:\\Users\\micha\\AppData\\Local\\Programs\\Python\\Python310\\lib\\site-packages\\tqdm\\auto.py:21: TqdmWarning: IProgress not found. Please update jupyter and ipywidgets. See https://ipywidgets.readthedocs.io/en/stable/user_install.html\n",
            "  from .autonotebook import tqdm as notebook_tqdm\n",
            "c:\\Users\\micha\\AppData\\Local\\Programs\\Python\\Python310\\lib\\site-packages\\scipy\\__init__.py:146: UserWarning: A NumPy version >=1.16.5 and <1.23.0 is required for this version of SciPy (detected version 1.24.1\n",
            "  warnings.warn(f\"A NumPy version >={np_minversion} and <{np_maxversion}\"\n",
            "Using cache found in C:\\Users\\micha/.cache\\torch\\hub\\pytorch_vision_v0.10.0\n",
            "Using cache found in C:\\Users\\micha/.cache\\torch\\hub\\pytorch_vision_v0.10.0\n",
            "c:\\Users\\micha\\AppData\\Local\\Programs\\Python\\Python310\\lib\\site-packages\\torchvision\\models\\_utils.py:208: UserWarning: The parameter 'pretrained' is deprecated since 0.13 and will be removed in 0.15, please use 'weights' instead.\n",
            "  warnings.warn(\n",
            "c:\\Users\\micha\\AppData\\Local\\Programs\\Python\\Python310\\lib\\site-packages\\torchvision\\models\\_utils.py:223: UserWarning: Arguments other than a weight enum or `None` for 'weights' are deprecated since 0.13 and will be removed in 0.15. The current behavior is equivalent to passing `weights=AlexNet_Weights.IMAGENET1K_V1`. You can also use `weights=AlexNet_Weights.DEFAULT` to get the most up-to-date weights.\n",
            "  warnings.warn(msg)\n",
            "Using cache found in C:\\Users\\micha/.cache\\torch\\hub\\pytorch_vision_v0.10.0\n",
            "c:\\Users\\micha\\AppData\\Local\\Programs\\Python\\Python310\\lib\\site-packages\\torchvision\\models\\_utils.py:223: UserWarning: Arguments other than a weight enum or `None` for 'weights' are deprecated since 0.13 and will be removed in 0.15. The current behavior is equivalent to passing `weights=VGG16_Weights.IMAGENET1K_V1`. You can also use `weights=VGG16_Weights.DEFAULT` to get the most up-to-date weights.\n",
            "  warnings.warn(msg)\n"
          ]
        }
      ],
      "source": [
        "import torch\n",
        "import torchvision\n",
        "import numpy as np\n",
        "from torch import nn\n",
        "from torch.nn import functional as F\n",
        "from sklearn.preprocessing import StandardScaler\n",
        "\n",
        "torch.manual_seed(0)\n",
        "\n",
        "# Load in the resnet18 architecture\n",
        "resnet = torch.hub.load('pytorch/vision:v0.10.0', 'resnet18', weights ='ResNet18_Weights.DEFAULT')\n",
        "alexnet = torch.hub.load('pytorch/vision:v0.10.0', 'alexnet', pretrained = True)\n",
        "vgg = torch.hub.load('pytorch/vision:v0.10.0', 'vgg16', pretrained = True)"
      ]
    },
    {
      "cell_type": "code",
      "execution_count": 2,
      "metadata": {
        "id": "_Vste9xHzfs0"
      },
      "outputs": [],
      "source": [
        "# Get only the embedding layers of ResNet\n",
        "modules = list(resnet.children())[:9]\n",
        "feature_extractor_res = nn.Sequential(*modules)\n",
        "for f in feature_extractor_res.parameters():\n",
        "  f.requires_grad = False"
      ]
    },
    {
      "cell_type": "code",
      "execution_count": 3,
      "metadata": {
        "colab": {
          "base_uri": "https://localhost:8080/"
        },
        "id": "OtJmYQRV3beH",
        "outputId": "a5e1035d-b583-4e15-ccdd-fe858aea029f"
      },
      "outputs": [
        {
          "name": "stdout",
          "output_type": "stream",
          "text": [
            "Running on device: cuda\n"
          ]
        }
      ],
      "source": [
        "# Setup device for model training and evaluation\n",
        "device = 'cuda' if torch.cuda.is_available else 'cpu'\n",
        "print(\"Running on device:\", device)\n",
        "if device == 'cpu': \"Warning: running on CPU may be slow\""
      ]
    },
    {
      "cell_type": "code",
      "execution_count": 4,
      "metadata": {
        "id": "wdAOJJ_s4B3m"
      },
      "outputs": [],
      "source": [
        "# Define the classifier, using the pretrained ResNet feature-extractor\n",
        "# as a sktarting point.\n",
        "class LeukemiaNet_Features_Resnet(nn.Module):\n",
        "  def __init__(self) -> None:\n",
        "    super(LeukemiaNet_Features_Resnet, self).__init__()\n",
        "    self.embeddings = feature_extractor_res\n",
        "    self.name = \"LeukemiaNet Feature Extractor\"\n",
        "  def forward(self, x):\n",
        "    # Compute embeddings:\n",
        "    return self.embeddings(x)"
      ]
    },
    {
      "cell_type": "code",
      "execution_count": 5,
      "metadata": {
        "id": "gR6-ikTWdPP2"
      },
      "outputs": [],
      "source": [
        "def get_embeddings(dataset, device : str):\n",
        "  feature_extractor_res = LeukemiaNet_Features_Resnet().to(device)\n",
        "  feature_extractor_alex = alexnet.to(device).features\n",
        "  feature_extractor_vgg = vgg.to(device).features\n",
        "  feature_extractor_res.eval()\n",
        "  feature_extractor_alex.eval()\n",
        "  feature_extractor_vgg.eval()\n",
        "  with torch.no_grad():\n",
        "    counts = {0:1, 1:1, 2:1, 3:1}\n",
        "    for sample, label in dataset:\n",
        "      elem = sample.to(device)\n",
        "      emb_res = feature_extractor_res(elem)\n",
        "      emb_res = emb_res.detach().cpu().flatten().numpy()\n",
        "      emb_alex = feature_extractor_alex(elem)\n",
        "      emb_alex = emb_alex.detach().cpu().flatten().numpy()\n",
        "      emb_vgg = feature_extractor_vgg(elem)\n",
        "      emb_vgg = emb_vgg.detach().cpu().flatten().numpy()\n",
        "      np.savetxt(\"./ResNet_Embeddings/%s/%d.txt\"%(dataset.classes[label], counts[label]), emb_res)\n",
        "      np.savetxt(\"./AlexNet_Embeddings/%s/%d.txt\"%(dataset.classes[label], counts[label]), emb_alex)\n",
        "      np.savetxt(\"./VGG_Embeddings/%s/%d.txt\"%(dataset.classes[label], counts[label]), emb_vgg)\n",
        "      counts[label] += 1"
      ]
    },
    {
      "cell_type": "code",
      "execution_count": 6,
      "metadata": {},
      "outputs": [],
      "source": [
        "images = torchvision.datasets.ImageFolder('./Processed_Data/', transform=torchvision.transforms.ToTensor())"
      ]
    },
    {
      "cell_type": "code",
      "execution_count": 7,
      "metadata": {},
      "outputs": [],
      "source": [
        "get_embeddings(images, device)"
      ]
    }
  ],
  "metadata": {
    "colab": {
      "provenance": []
    },
    "kernelspec": {
      "display_name": "Python 3",
      "name": "python3"
    },
    "language_info": {
      "codemirror_mode": {
        "name": "ipython",
        "version": 3
      },
      "file_extension": ".py",
      "mimetype": "text/x-python",
      "name": "python",
      "nbconvert_exporter": "python",
      "pygments_lexer": "ipython3",
      "version": "3.10.1"
    }
  },
  "nbformat": 4,
  "nbformat_minor": 0
}

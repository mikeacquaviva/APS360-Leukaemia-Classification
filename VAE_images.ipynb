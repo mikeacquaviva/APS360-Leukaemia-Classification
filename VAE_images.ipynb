{
  "nbformat": 4,
  "nbformat_minor": 0,
  "metadata": {
    "colab": {
      "provenance": [],
      "include_colab_link": true
    },
    "kernelspec": {
      "name": "python3",
      "display_name": "Python 3"
    },
    "language_info": {
      "name": "python"
    },
    "accelerator": "GPU",
    "gpuClass": "standard"
  },
  "cells": [
    {
      "cell_type": "markdown",
      "metadata": {
        "id": "view-in-github",
        "colab_type": "text"
      },
      "source": [
        "<a href=\"https://colab.research.google.com/github/mikeacquaviva/APS360-Leukaemia-Classification/blob/main/VAE_images.ipynb\" target=\"_parent\"><img src=\"https://colab.research.google.com/assets/colab-badge.svg\" alt=\"Open In Colab\"/></a>"
      ]
    },
    {
      "cell_type": "code",
      "execution_count": null,
      "metadata": {
        "id": "iwnyhhfMFxKY"
      },
      "outputs": [],
      "source": [
        "import torch\n",
        "import numpy as np\n",
        "import torch.nn as nn \n",
        "import torch.nn.functional as F\n",
        "import torch.optim as optim\n",
        "import matplotlib.pyplot as plt\n",
        "from torchvision import datasets, transforms"
      ]
    },
    {
      "cell_type": "code",
      "source": [
        "%%bash\n",
        "git clone https://github.com/mikeacquaviva/APS360-Leukaemia-Classification.git"
      ],
      "metadata": {
        "id": "8mxW4YG0IedK",
        "colab": {
          "base_uri": "https://localhost:8080/"
        },
        "outputId": "02295583-05fa-41f9-b15a-b50646904f6a"
      },
      "execution_count": null,
      "outputs": [
        {
          "output_type": "stream",
          "name": "stderr",
          "text": [
            "Cloning into 'APS360-Leukaemia-Classification'...\n",
            "Updating files:  79% (5768/7233)\rUpdating files:  80% (5787/7233)\rUpdating files:  81% (5859/7233)\rUpdating files:  82% (5932/7233)\rUpdating files:  83% (6004/7233)\rUpdating files:  84% (6076/7233)\rUpdating files:  85% (6149/7233)\rUpdating files:  86% (6221/7233)\rUpdating files:  87% (6293/7233)\rUpdating files:  88% (6366/7233)\rUpdating files:  89% (6438/7233)\rUpdating files:  90% (6510/7233)\rUpdating files:  91% (6583/7233)\rUpdating files:  92% (6655/7233)\rUpdating files:  93% (6727/7233)\rUpdating files:  94% (6800/7233)\rUpdating files:  95% (6872/7233)\rUpdating files:  96% (6944/7233)\rUpdating files:  97% (7017/7233)\rUpdating files:  98% (7089/7233)\rUpdating files:  99% (7161/7233)\rUpdating files: 100% (7233/7233)\rUpdating files: 100% (7233/7233), done.\n"
          ]
        }
      ]
    },
    {
      "cell_type": "code",
      "source": [
        "preprocessed_data_dir = (\"/content/gdrive/MyDrive/APS360/processed\")\n",
        "classes = ['benign', 'early', 'pre', 'pro']\n",
        "data_transform = transforms.Compose([transforms.Resize((224, 224)),\n",
        "                                      transforms.ToTensor()])"
      ],
      "metadata": {
        "id": "G-u2nX5mLVwG"
      },
      "execution_count": null,
      "outputs": []
    },
    {
      "cell_type": "code",
      "source": [
        "data_dir = \"/content/APS360-Leukaemia-Classification/images\"\n",
        "classes = ['benign', 'early', 'pre', 'pro']\n",
        "data_transform = transforms.Compose([transforms.Resize((224, 224)),\n",
        "                                      transforms.ToTensor()])\n",
        "data = datasets.ImageFolder(data_dir, transform = data_transform)\n",
        "\n",
        "#print(len(data))"
      ],
      "metadata": {
        "id": "jFIuxG8VI_Pc"
      },
      "execution_count": null,
      "outputs": []
    },
    {
      "cell_type": "code",
      "source": [],
      "metadata": {
        "id": "wgjRgMm6eu-Z"
      },
      "execution_count": null,
      "outputs": []
    },
    {
      "cell_type": "code",
      "source": [
        "#code to retreive the data for input"
      ],
      "metadata": {
        "id": "P5g9bVf5H-fD"
      },
      "execution_count": null,
      "outputs": []
    },
    {
      "cell_type": "code",
      "source": [
        "#from the tutorial\n",
        "# dimensions of latent space\n",
        "zdim = 25\n",
        "featureDim = 224 * 224\n",
        "# Variational Autoencoder\n",
        "class Autoencoder(nn.Module):\n",
        "    def __init__(self):\n",
        "        super(Autoencoder, self).__init__()\n",
        "\n",
        "        self.encConv1 = nn.Conv2d(3, 16, 5)\n",
        "        self.encConv2 = nn.Conv2d(16, 32, 5)\n",
        "        self.encFC1 = nn.Linear(featureDim, zdim)\n",
        "        self.encFC2 = nn.Linear(featureDim, zdim)\n",
        "\n",
        "        # Initializing the fully-connected layer and 2 convolutional layers for decoder\n",
        "        self.decFC1 = nn.Linear(zdim, featureDim)\n",
        "        self.decConv1 = nn.ConvTranspose2d(32, 16, 5)\n",
        "        self.decConv2 = nn.ConvTranspose2d(16, 3, 5) #img channels is 3\n",
        "        # encoder\n",
        "        self.fc1 = nn.Linear(224 * 224, 400)\n",
        "        self.relu = nn.ReLU()\n",
        "        self.fc2m = nn.Linear(400, zdim)  # mu layer\n",
        "        self.fc2s = nn.Linear(400, zdim)  # sd layer\n",
        "\n",
        "        # decoder\n",
        "        self.fc3 = nn.Linear(zdim, 400)\n",
        "        self.fc4 = nn.Linear(400, 224 * 224)\n",
        "        self.sigmoid = nn.Sigmoid()\n",
        "\n",
        "    def encode(self, x):\n",
        "        h1 = self.relu(self.fc1(x))\n",
        "        return self.fc2m(h1), self.fc2s(h1)\n",
        "\n",
        "    # reparameterize\n",
        "    def reparameterize(self, mu, logvar):\n",
        "        if self.training:\n",
        "            std = logvar.mul(0.5).exp_()\n",
        "            eps = std.data.new(std.size()).normal_()\n",
        "            return eps.mul(std).add_(mu)\n",
        "        else:\n",
        "            return mu\n",
        "\n",
        "    def decode(self, z):\n",
        "        h3 = self.relu(self.fc3(z))\n",
        "        return self.sigmoid(self.fc4(h3))\n",
        "\n",
        "    def forward(self, x):\n",
        "        mu, logvar = self.encode(x.view(-1, 224 * 224))\n",
        "        z = self.reparameterize(mu, logvar)\n",
        "        return self.decode(z), mu, logvar"
      ],
      "metadata": {
        "id": "lxoLHXP4IDgL"
      },
      "execution_count": null,
      "outputs": []
    },
    {
      "cell_type": "code",
      "source": [
        "#from the tutorial\n",
        "# loss function for VAE are unique and use Kullback-Leibler\n",
        "# divergence measure to force distribution to match unit Gaussian\n",
        "def loss_function(recon_x, x, mu, logvar):\n",
        "    bce = F.binary_cross_entropy(recon_x, x.view(-1, 224 * 224))\n",
        "    kld = -0.5 * torch.sum(1 + logvar - mu.pow(2) - logvar.exp())\n",
        "    kld /= batch_size * 224 * 224\n",
        "    return bce + kld"
      ],
      "metadata": {
        "id": "m44iDpSRIEkO"
      },
      "execution_count": null,
      "outputs": []
    },
    {
      "cell_type": "code",
      "source": [
        "#from the tutorial\n",
        "def train(model, num_epochs = 1, batch_size=10, learning_rate = 1e-3):\n",
        "    model.train() #train mode so that we do reparameterization\n",
        "    torch.manual_seed(42)\n",
        "    \n",
        "    train_loader = torch.utils.data.DataLoader(datasets.ImageFolder(data_dir, transform = data_transform),\n",
        "               batch_size = batch_size, shuffle = True)\n",
        "    \n",
        "    optimizer = optim.Adam(model.parameters(), learning_rate)\n",
        "    \n",
        "    for epoch in range(num_epochs):\n",
        "      for data in train_loader:  # load batch\n",
        "          img, _ = data\n",
        "          \n",
        "          recon, mu, logvar = model(img)\n",
        "          loss = loss_function(recon, img, mu, logvar) # calculate loss\n",
        "          loss.backward()\n",
        "          optimizer.step()\n",
        "          optimizer.zero_grad()\n",
        "      \n",
        "      print('Epoch:{}, Loss:{:.4f}'.format(epoch+1, float(loss)))"
      ],
      "metadata": {
        "id": "T_VkBVj6IP45"
      },
      "execution_count": null,
      "outputs": []
    },
    {
      "cell_type": "code",
      "source": [
        "batch_size = 64\n",
        "\n",
        "model = Autoencoder()\n",
        "train(model, num_epochs = 100, batch_size = batch_size)"
      ],
      "metadata": {
        "id": "SmdrMY3CHptb"
      },
      "execution_count": null,
      "outputs": []
    },
    {
      "cell_type": "code",
      "source": [
        "# generate random samples in latent space\n",
        "model.eval()\n",
        "sample = torch.randn(64, zdim)\n",
        "sample = model.decode(sample)\n",
        "\n",
        "import matplotlib.pyplot as plt\n",
        "imgs = sample.data.view(64, 224, 224).numpy()\n",
        "plt.imshow(imgs[4])"
      ],
      "metadata": {
        "id": "rHEiCWHJ8VA1"
      },
      "execution_count": null,
      "outputs": []
    },
    {
      "cell_type": "code",
      "source": [
        "# display images\n",
        "for k in range(1):\n",
        "    plt.figure(figsize=(8, 8))\n",
        "\n",
        "    for i, item in enumerate(imgs):\n",
        "        plt.subplot(8, 8, i+1)\n",
        "        plt.imshow(item)"
      ],
      "metadata": {
        "id": "6L7PHoE4NPcK"
      },
      "execution_count": null,
      "outputs": []
    },
    {
      "cell_type": "code",
      "source": [
        "#new autoencoder test\n",
        "class Flatten(nn.Module):\n",
        "  def forward(self, input):\n",
        "    return input.view(input.size(0), -1)\n",
        "\n",
        "class ConvAutoencoder(nn.Module):\n",
        "    def __init__(self):\n",
        "        super(ConvAutoencoder, self).__init__()\n",
        "        self.encoder = nn.Sequential( # like the Composition layer you built\n",
        "            nn.Conv2d(3, 16, 3, stride=2, padding=1),\n",
        "            nn.ReLU(),\n",
        "            nn.Conv2d(16, 32, 3, stride=2, padding=1),\n",
        "            nn.ReLU(),\n",
        "            nn.Conv2d(32, 64, 7),\n",
        "            Flatten()\n",
        "        )\n",
        "        self.decoder = nn.Sequential(\n",
        "            nn.ConvTranspose2d(64, 32, 7),\n",
        "            nn.ReLU(),\n",
        "            nn.ConvTranspose2d(32, 16, 3, stride=2, padding=1, output_padding=1),\n",
        "            nn.ReLU(),\n",
        "            nn.ConvTranspose2d(16, 1, 3, stride=2, padding=1, output_padding=1),\n",
        "            nn.Sigmoid()\n",
        "        )\n",
        "\n",
        "    def forward(self, x):\n",
        "        x = self.encoder(x)\n",
        "        x = self.decoder(x)\n",
        "        return x"
      ],
      "metadata": {
        "id": "SJM-KyNQNqka"
      },
      "execution_count": null,
      "outputs": []
    },
    {
      "cell_type": "code",
      "source": [
        "def trainConv(model, num_epochs=5, batch_size=64, learning_rate=1e-3):\n",
        "    torch.manual_seed(42)\n",
        "    criterion = nn.MSELoss() # mean square error loss\n",
        "    optimizer = torch.optim.Adam(model.parameters(),\n",
        "                                 lr=learning_rate, \n",
        "                                 weight_decay=1e-5)\n",
        "    train_loader = torch.utils.data.DataLoader(mnist_data, \n",
        "                                               batch_size=batch_size, \n",
        "                                               shuffle=True)\n",
        "    outputs = []\n",
        "    for epoch in range(num_epochs):\n",
        "        for data in train_loader:\n",
        "            img, _ = data\n",
        "            recon = model(img)\n",
        "            loss = criterion(recon, img)\n",
        "            loss.backward()\n",
        "            optimizer.step()\n",
        "            optimizer.zero_grad()\n",
        "\n",
        "        print('Epoch:{}, Loss:{:.4f}'.format(epoch+1, float(loss)))\n",
        "        outputs.append((epoch, img, recon),)\n",
        "    return outputs"
      ],
      "metadata": {
        "id": "y-SNXdKONsK_"
      },
      "execution_count": null,
      "outputs": []
    },
    {
      "cell_type": "code",
      "source": [
        "modelConv = ConvAutoencoder()\n",
        "max_epochs = 20\n",
        "outputs1 = train(model, num_epochs=max_epochs)"
      ],
      "metadata": {
        "id": "uWtZXxlzN75a"
      },
      "execution_count": null,
      "outputs": []
    }
  ]
}
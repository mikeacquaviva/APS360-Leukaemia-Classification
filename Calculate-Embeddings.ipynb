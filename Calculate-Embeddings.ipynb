{
  "cells": [
    {
      "cell_type": "code",
      "execution_count": 1,
      "metadata": {
        "colab": {
          "base_uri": "https://localhost:8080/"
        },
        "id": "mWdf4cR-yB_5",
        "outputId": "ed97f3c5-322d-4408-bdac-e36df900cff9"
      },
      "outputs": [
        {
          "name": "stderr",
          "output_type": "stream",
          "text": [
            "c:\\Users\\micha\\AppData\\Local\\Programs\\Python\\Python310\\lib\\site-packages\\scipy\\__init__.py:146: UserWarning: A NumPy version >=1.16.5 and <1.23.0 is required for this version of SciPy (detected version 1.23.2\n",
            "  warnings.warn(f\"A NumPy version >={np_minversion} and <{np_maxversion}\"\n",
            "Using cache found in C:\\Users\\micha/.cache\\torch\\hub\\pytorch_vision_v0.10.0\n"
          ]
        }
      ],
      "source": [
        "import torch\n",
        "import torchvision\n",
        "import numpy as np\n",
        "from torch import nn\n",
        "from torch.nn import functional as F\n",
        "from sklearn.preprocessing import StandardScaler\n",
        "\n",
        "torch.manual_seed(0)\n",
        "\n",
        "# Load in the resnet18 architecture\n",
        "resnet = torch.hub.load('pytorch/vision:v0.10.0', 'resnet18', weights ='ResNet18_Weights.DEFAULT')\n"
      ]
    },
    {
      "cell_type": "code",
      "execution_count": 2,
      "metadata": {
        "id": "_Vste9xHzfs0"
      },
      "outputs": [],
      "source": [
        "# Get only the embedding layers of ResNet\n",
        "modules = list(resnet.children())[:9]\n",
        "feature_extractor = nn.Sequential(*modules)\n",
        "for f in feature_extractor.parameters():\n",
        "  f.requires_grad = False"
      ]
    },
    {
      "cell_type": "code",
      "execution_count": 3,
      "metadata": {
        "colab": {
          "base_uri": "https://localhost:8080/"
        },
        "id": "OtJmYQRV3beH",
        "outputId": "a5e1035d-b583-4e15-ccdd-fe858aea029f"
      },
      "outputs": [
        {
          "name": "stdout",
          "output_type": "stream",
          "text": [
            "Running on device: cuda\n"
          ]
        }
      ],
      "source": [
        "# Setup device for model training and evaluation\n",
        "device = 'cuda' if torch.cuda.is_available else 'cpu'\n",
        "print(\"Running on device:\", device)\n",
        "if device == 'cpu': \"Warning: running on CPU may be slow\""
      ]
    },
    {
      "cell_type": "code",
      "execution_count": 4,
      "metadata": {
        "id": "wdAOJJ_s4B3m"
      },
      "outputs": [],
      "source": [
        "# Define the classifier, using the pretrained ResNet feature-extractor\n",
        "# as a sktarting point.\n",
        "class LeukemiaNet_Features(nn.Module):\n",
        "  def __init__(self) -> None:\n",
        "    super(LeukemiaNet_Features, self).__init__()\n",
        "    self.embeddings = feature_extractor\n",
        "    self.name = \"LeukemiaNet Feature Extractor\"\n",
        "  def forward(self, x):\n",
        "    # Compute embeddings:\n",
        "    return self.embeddings(x.unsqueeze(0))"
      ]
    },
    {
      "cell_type": "code",
      "execution_count": 5,
      "metadata": {
        "id": "gR6-ikTWdPP2"
      },
      "outputs": [],
      "source": [
        "def get_embeddings(dataset, device : str):\n",
        "  feature_extractor = LeukemiaNet_Features().to(device)\n",
        "  feature_extractor.eval()\n",
        "  with torch.no_grad():\n",
        "    counts = {0:1, 1:1, 2:1, 3:1, 4:1}\n",
        "    for sample, label in dataset:\n",
        "      elem = sample.to(device)\n",
        "      emb = feature_extractor(elem)\n",
        "      emb = emb.detach().cpu().flatten().numpy()\n",
        "      np.savetxt(\"./Embeddings/%s/%d.txt\"%(dataset.classes[label], counts[label]), emb)\n",
        "      counts[label] += 1"
      ]
    },
    {
      "cell_type": "code",
      "execution_count": 6,
      "metadata": {},
      "outputs": [],
      "source": [
        "images = torchvision.datasets.ImageFolder('./Data/', transform=torchvision.transforms.ToTensor())"
      ]
    },
    {
      "cell_type": "code",
      "execution_count": 7,
      "metadata": {},
      "outputs": [],
      "source": [
        "get_embeddings(images, device)"
      ]
    }
  ],
  "metadata": {
    "colab": {
      "provenance": []
    },
    "kernelspec": {
      "display_name": "Python 3",
      "name": "python3"
    },
    "language_info": {
      "codemirror_mode": {
        "name": "ipython",
        "version": 3
      },
      "file_extension": ".py",
      "mimetype": "text/x-python",
      "name": "python",
      "nbconvert_exporter": "python",
      "pygments_lexer": "ipython3",
      "version": "3.10.1"
    }
  },
  "nbformat": 4,
  "nbformat_minor": 0
}
